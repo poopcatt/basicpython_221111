{
  "nbformat": 4,
  "nbformat_minor": 0,
  "metadata": {
    "colab": {
      "provenance": [],
      "include_colab_link": true
    },
    "kernelspec": {
      "name": "python3",
      "display_name": "Python 3"
    },
    "language_info": {
      "name": "python"
    }
  },
  "cells": [
    {
      "cell_type": "markdown",
      "metadata": {
        "id": "view-in-github",
        "colab_type": "text"
      },
      "source": [
        "<a href=\"https://colab.research.google.com/github/poopcatt/basicpython_221111/blob/main/basicpython_221111.ipynb\" target=\"_parent\"><img src=\"https://colab.research.google.com/assets/colab-badge.svg\" alt=\"Open In Colab\"/></a>"
      ]
    },
    {
      "cell_type": "markdown",
      "source": [
        "1. 다음 프로그램의 출력은 무엇인가?"
      ],
      "metadata": {
        "id": "KCgXMjfGfKCo"
      }
    },
    {
      "cell_type": "code",
      "source": [
        "age = 20\n",
        "if age < 20:\n",
        "  print('20살 미만')\n",
        "else:\n",
        "  print('20살 이상')"
      ],
      "metadata": {
        "colab": {
          "base_uri": "https://localhost:8080/"
        },
        "id": "5LcurW9BfTGf",
        "outputId": "e7e5d983-828a-4934-cca1-e9c3293f3edf"
      },
      "execution_count": null,
      "outputs": [
        {
          "output_type": "stream",
          "name": "stdout",
          "text": [
            "20살 이상\n"
          ]
        }
      ]
    },
    {
      "cell_type": "markdown",
      "source": [
        "2. 1번문제에서 age가 30이상이고 50이하인 것을 체크하려면 어떻게 하여야하는가?"
      ],
      "metadata": {
        "id": "BLxsegQ0fmx5"
      }
    },
    {
      "cell_type": "code",
      "source": [
        "age = int(input(\"나이를 입력해주세요 : \"))\n",
        "if age >= 30 and age <=50:\n",
        "    print(\"30살 이상 50살 이하\")\n",
        "else:\n",
        "    print(\"30살 이상 50살 이하를 제외한 나머지\")"
      ],
      "metadata": {
        "colab": {
          "base_uri": "https://localhost:8080/"
        },
        "id": "fkBPaj82fuI7",
        "outputId": "ca8c7c88-4f09-49a4-fe7b-3cdc51e9c97c"
      },
      "execution_count": null,
      "outputs": [
        {
          "output_type": "stream",
          "name": "stdout",
          "text": [
            "나이를 입력해주세요 : 20\n",
            "30살 이상 50살 이하를 제외한 나머지\n"
          ]
        }
      ]
    },
    {
      "cell_type": "markdown",
      "source": [
        "3. 사용자에게 현재 온도를 질문하고 온도가 25도 이상이면 반바지를 추천하고 25도 미만이면 긴바지를 추천하는 프로그램을 작성해보자."
      ],
      "metadata": {
        "id": "7I3GMyR6gG-b"
      }
    },
    {
      "cell_type": "code",
      "source": [
        "t = int(input(\"현재 온도를 입력하시오: \"))\n",
        "if(t >= 25):\n",
        "    print(\"반바지를 입으세요.\")\n",
        "else:\n",
        "    print(\"긴바지를 입으세요.\")"
      ],
      "metadata": {
        "colab": {
          "base_uri": "https://localhost:8080/"
        },
        "id": "QBDzPeu3gPo9",
        "outputId": "7fffc984-7759-463d-f34c-4fdbf8599439"
      },
      "execution_count": null,
      "outputs": [
        {
          "output_type": "stream",
          "name": "stdout",
          "text": [
            "현재 온도를 입력하시오: 10\n",
            "긴바지를 입으세요.\n"
          ]
        }
      ]
    },
    {
      "cell_type": "markdown",
      "source": [
        "4. 학생의 시험 점수를 물어보고 시험 점수가 90점 이상이면 A, 80점 이상이면 B, 70점\n",
        "이상이면 C, 60점 이상이면 D, 그외의 점수이면 F를 학점으로 주는 프로그램을 작성하라."
      ],
      "metadata": {
        "id": "zjOJefTpgfZ_"
      }
    },
    {
      "cell_type": "code",
      "source": [
        "score = int(input(\"성적을 입력하시오 : \"))\n",
        "\n",
        "if score >= 90:\n",
        "    print(\"A학점입니다.\")\n",
        "elif score >= 80:\n",
        "    print(\"B학점입니다.\")\n",
        "elif score >=70:\n",
        "    print(\"C학점입니다.\")\n",
        "elif score >= 60:\n",
        "    print(\"D학점입니다.\")\n",
        "else:\n",
        "    print(\"F학점입니다.\")"
      ],
      "metadata": {
        "colab": {
          "base_uri": "https://localhost:8080/"
        },
        "id": "Bkvc8ArTgp6f",
        "outputId": "70374dea-66ac-41ed-8993-5e52ca41247a"
      },
      "execution_count": null,
      "outputs": [
        {
          "output_type": "stream",
          "name": "stdout",
          "text": [
            "성적을 입력하시오 : 99\n",
            "A학점입니다.\n"
          ]
        }
      ]
    },
    {
      "cell_type": "markdown",
      "source": [
        "5. 난수를 사용하여 1부터 100사이의 숫자를 사용하는 뺄셈 문제를 생성하고 사용자에게\n",
        "물어본 후에 사용자의 답변이 올바른지를 검사하는 프로그램을 작성하라."
      ],
      "metadata": {
        "id": "diKnF-2AgxFM"
      }
    },
    {
      "cell_type": "code",
      "source": [
        "import random\n",
        "x = random.randint(1, 100)\n",
        "y = random.randint(1, 100)\n",
        "\n",
        "print(x, \"-\", y, \"=\", (x-y))\n",
        "if x>y:\n",
        "    print(\"맞았습니다.\")\n",
        "elif x==y:\n",
        "    print(\"0입니다.\")\n",
        "else:\n",
        "    print(\"맞았습니다.\")"
      ],
      "metadata": {
        "colab": {
          "base_uri": "https://localhost:8080/"
        },
        "id": "-124tQt-g4YF",
        "outputId": "b249c28a-e7fd-44f8-b69c-b7fa3c73a99e"
      },
      "execution_count": 1,
      "outputs": [
        {
          "output_type": "stream",
          "name": "stdout",
          "text": [
            "74 - 14 = 60\n",
            "맞았습니다.\n"
          ]
        }
      ]
    },
    {
      "cell_type": "markdown",
      "source": [
        "6. 사용자로부터 정수를 받아서 이 정수가 2와 3으로 나누어떨어질 수 있는지를 출력하라."
      ],
      "metadata": {
        "id": "HeK8jR1EhEiD"
      }
    },
    {
      "cell_type": "code",
      "source": [
        "number = int(input(\"정수를 입력하시오: \"))\n",
        "\n",
        "if(number % 2 == 0 and number % 3 == 0):\n",
        "    print(\"2와 3으로 나누어 떨어집니다.\")\n",
        "else:\n",
        "    print(\"2와 3으로 나누어 떨어지지 않습니다.\")"
      ],
      "metadata": {
        "colab": {
          "base_uri": "https://localhost:8080/"
        },
        "id": "V9nklO2wiUDT",
        "outputId": "b84d3354-d684-4251-d3fe-aebdd23f13e4"
      },
      "execution_count": null,
      "outputs": [
        {
          "output_type": "stream",
          "name": "stdout",
          "text": [
            "정수를 입력하시오: 6\n",
            "2와 3으로 나누어 떨어집니다.\n"
          ]
        }
      ]
    },
    {
      "cell_type": "markdown",
      "source": [
        "7. 2자리 숫자로 이루어진 복권이 있다. 사용자가 가지고 있는 복권 번호가 2자리 모두 일치하면 100만원을 받는다. 2자리 중에서 하나만 일치하면 50만원을 받는다. 하나도 일치하지 않으면 상금은 없다. 복권 당천 번호는 난수로 생성하고 사용자의 입력에 따라서 상금이 얼마인지를 출력하는 프로그램을 작성하라."
      ],
      "metadata": {
        "id": "5CPLBeBVic1g"
      }
    },
    {
      "cell_type": "code",
      "source": [
        "import random\n",
        "solution = random.randint(1, 100)\n",
        "\n",
        "user = int(input(\"복권번호를 입력해주세요 : \"))\n",
        "\n",
        "print(\"당첨번호는\", solution, \"입니다.\")\n",
        "\n",
        "digit1 = solution//10\n",
        "digit2 = solution%10\n",
        "\n",
        "number1 = user//10\n",
        "number2 = user%10\n",
        "\n",
        "if(solution == user):\n",
        "    print(\"상금은 100만원입니다.\")\n",
        "elif(digit1 == number1 or digit1 == number2 or digit2 == number1 or digit2 == number2):\n",
        "    print(\"상금은 50만원입니다.\")\n",
        "else:\n",
        "    print(\"상금은 없습니다.\")"
      ],
      "metadata": {
        "colab": {
          "base_uri": "https://localhost:8080/"
        },
        "id": "va3fZy9Wi3n0",
        "outputId": "fcddfa52-63d4-455e-fb42-89f19dff429d"
      },
      "execution_count": 12,
      "outputs": [
        {
          "output_type": "stream",
          "name": "stdout",
          "text": [
            "복권번호를 입력해주세요 : 64\n",
            "당첨번호는 16 입니다.\n",
            "상금은 50만원입니다.\n"
          ]
        }
      ]
    }
  ]
}